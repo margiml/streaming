{
 "cells": [
  {
   "cell_type": "markdown",
   "id": "58783cd9",
   "metadata": {},
   "source": [
    "## NetFlix\n",
    "It is a dataset containing movies and tv shows available on the Netflix streaming platform.The dataset has been taken from the web site: https://www.kaggle.com/datasets/shivamb/netflix-shows?select=netflix_titles.csv"
   ]
  },
  {
   "cell_type": "code",
   "execution_count": 110,
   "id": "320ce759",
   "metadata": {},
   "outputs": [],
   "source": [
    "import pandas as pd\n",
    "import numpy as np\n",
    "\n",
    "# loading the dataset into a dataframe\n",
    "\n",
    "data = pd.read_csv(\"data/NetFlix.csv\")"
   ]
  },
  {
   "cell_type": "code",
   "execution_count": 98,
   "id": "52f057ae",
   "metadata": {},
   "outputs": [
    {
     "name": "stdout",
     "output_type": "stream",
     "text": [
      "Dataframe contains 7787 records\n"
     ]
    }
   ],
   "source": [
    "# Number of records is checked\n",
    "\n",
    "print(\"Dataframe contains {} records\".format(len(data.index)))"
   ]
  },
  {
   "cell_type": "code",
   "execution_count": 99,
   "id": "8791e84b",
   "metadata": {},
   "outputs": [
    {
     "data": {
      "text/html": [
       "<div>\n",
       "<style scoped>\n",
       "    .dataframe tbody tr th:only-of-type {\n",
       "        vertical-align: middle;\n",
       "    }\n",
       "\n",
       "    .dataframe tbody tr th {\n",
       "        vertical-align: top;\n",
       "    }\n",
       "\n",
       "    .dataframe thead th {\n",
       "        text-align: right;\n",
       "    }\n",
       "</style>\n",
       "<table border=\"1\" class=\"dataframe\">\n",
       "  <thead>\n",
       "    <tr style=\"text-align: right;\">\n",
       "      <th></th>\n",
       "      <th>show_id</th>\n",
       "      <th>type</th>\n",
       "      <th>title</th>\n",
       "      <th>director</th>\n",
       "      <th>cast</th>\n",
       "      <th>country</th>\n",
       "      <th>date_added</th>\n",
       "      <th>release_year</th>\n",
       "      <th>rating</th>\n",
       "      <th>duration</th>\n",
       "      <th>genres</th>\n",
       "      <th>description</th>\n",
       "    </tr>\n",
       "  </thead>\n",
       "  <tbody>\n",
       "    <tr>\n",
       "      <th>0</th>\n",
       "      <td>s1</td>\n",
       "      <td>TV Show</td>\n",
       "      <td>3%</td>\n",
       "      <td>NaN</td>\n",
       "      <td>João Miguel, Bianca Comparato, Michel Gomes, R...</td>\n",
       "      <td>Brazil</td>\n",
       "      <td>14-Aug-20</td>\n",
       "      <td>2020</td>\n",
       "      <td>TV-MA</td>\n",
       "      <td>4</td>\n",
       "      <td>International TV Shows, TV Dramas, TV Sci-Fi &amp;...</td>\n",
       "      <td>In a future where the elite inhabit an island ...</td>\n",
       "    </tr>\n",
       "    <tr>\n",
       "      <th>1</th>\n",
       "      <td>s10</td>\n",
       "      <td>Movie</td>\n",
       "      <td>1920</td>\n",
       "      <td>Vikram Bhatt</td>\n",
       "      <td>Rajneesh Duggal, Adah Sharma, Indraneil Sengup...</td>\n",
       "      <td>India</td>\n",
       "      <td>15-Dec-17</td>\n",
       "      <td>2008</td>\n",
       "      <td>TV-MA</td>\n",
       "      <td>143</td>\n",
       "      <td>Horror Movies, International Movies, Thrillers</td>\n",
       "      <td>An architect and his wife move into a castle t...</td>\n",
       "    </tr>\n",
       "    <tr>\n",
       "      <th>2</th>\n",
       "      <td>s100</td>\n",
       "      <td>Movie</td>\n",
       "      <td>3 Heroines</td>\n",
       "      <td>Iman Brotoseno</td>\n",
       "      <td>Reza Rahadian, Bunga Citra Lestari, Tara Basro...</td>\n",
       "      <td>Indonesia</td>\n",
       "      <td>05-Jan-19</td>\n",
       "      <td>2016</td>\n",
       "      <td>TV-PG</td>\n",
       "      <td>124</td>\n",
       "      <td>Dramas, International Movies, Sports Movies</td>\n",
       "      <td>Three Indonesian women break records by becomi...</td>\n",
       "    </tr>\n",
       "  </tbody>\n",
       "</table>\n",
       "</div>"
      ],
      "text/plain": [
       "  show_id     type       title        director  \\\n",
       "0      s1  TV Show          3%             NaN   \n",
       "1     s10    Movie        1920    Vikram Bhatt   \n",
       "2    s100    Movie  3 Heroines  Iman Brotoseno   \n",
       "\n",
       "                                                cast    country date_added  \\\n",
       "0  João Miguel, Bianca Comparato, Michel Gomes, R...     Brazil  14-Aug-20   \n",
       "1  Rajneesh Duggal, Adah Sharma, Indraneil Sengup...      India  15-Dec-17   \n",
       "2  Reza Rahadian, Bunga Citra Lestari, Tara Basro...  Indonesia  05-Jan-19   \n",
       "\n",
       "   release_year rating  duration  \\\n",
       "0          2020  TV-MA         4   \n",
       "1          2008  TV-MA       143   \n",
       "2          2016  TV-PG       124   \n",
       "\n",
       "                                              genres  \\\n",
       "0  International TV Shows, TV Dramas, TV Sci-Fi &...   \n",
       "1     Horror Movies, International Movies, Thrillers   \n",
       "2        Dramas, International Movies, Sports Movies   \n",
       "\n",
       "                                         description  \n",
       "0  In a future where the elite inhabit an island ...  \n",
       "1  An architect and his wife move into a castle t...  \n",
       "2  Three Indonesian women break records by becomi...  "
      ]
     },
     "execution_count": 99,
     "metadata": {},
     "output_type": "execute_result"
    }
   ],
   "source": [
    "# The first 3 rows of the dataframe are displayed\n",
    "\n",
    "data.head(3)"
   ]
  },
  {
   "cell_type": "code",
   "execution_count": 100,
   "id": "0dc23477",
   "metadata": {},
   "outputs": [
    {
     "data": {
      "text/plain": [
       "Index(['show_id', 'type', 'title', 'director', 'cast', 'country', 'date_added',\n",
       "       'release_year', 'rating', 'duration', 'genres', 'description'],\n",
       "      dtype='object')"
      ]
     },
     "execution_count": 100,
     "metadata": {},
     "output_type": "execute_result"
    }
   ],
   "source": [
    "# The columns of the dataframe shown\n",
    "\n",
    "data.columns"
   ]
  },
  {
   "cell_type": "markdown",
   "id": "cee7bed1",
   "metadata": {},
   "source": [
    "### Processing missing values:\n",
    "The missing values are then identified, replaced and verified as no longer existing in the dataframe."
   ]
  },
  {
   "cell_type": "code",
   "execution_count": 101,
   "id": "655b6cf2",
   "metadata": {},
   "outputs": [
    {
     "data": {
      "text/plain": [
       "show_id            0\n",
       "type               0\n",
       "title              0\n",
       "director        2389\n",
       "cast             718\n",
       "country          507\n",
       "date_added        10\n",
       "release_year       0\n",
       "rating             7\n",
       "duration           0\n",
       "genres             0\n",
       "description        0\n",
       "dtype: int64"
      ]
     },
     "execution_count": 101,
     "metadata": {},
     "output_type": "execute_result"
    }
   ],
   "source": [
    "# The number of missing values in each variable is identified\n",
    "\n",
    "data.isnull().sum()"
   ]
  },
  {
   "cell_type": "markdown",
   "id": "b053f07e",
   "metadata": {},
   "source": [
    "Missing values in attributes: rating, director, cast, country are replaced by \"Not reported\" and date_added by \"2262-04-11\" which is the maximum date allowed by pandas"
   ]
  },
  {
   "cell_type": "code",
   "execution_count": 119,
   "id": "230983d6",
   "metadata": {},
   "outputs": [
    {
     "name": "stdout",
     "output_type": "stream",
     "text": [
      "7 NaN were replaced in variable rating\n",
      "2389 NaN were replaced in variable director\n",
      "718 NaN were replaced in variable cast\n",
      "507 NaN were replaced in variable country\n",
      "0 NaN were replaced in variable date_added\n"
     ]
    }
   ],
   "source": [
    "# Missing values are changed\n",
    "\n",
    "data.fillna({'date_added': pd.Timestamp.max.date()}, inplace=True)\n",
    "data.fillna({'rating': \"not reported\"}, inplace=True)\n",
    "data.fillna({'director': \"not reported\"}, inplace=True)\n",
    "data.fillna({'cast': \"not reported\"}, inplace=True)\n",
    "data.fillna({'country': \"not reported\"}, inplace=True)\n",
    "\n",
    "# the changes are checked\n",
    "\n",
    "y = data[(data.rating == \"not reported\")]\n",
    "z = data[(data.director == \"not reported\")]\n",
    "w = data[(data.cast == \"not reported\")]\n",
    "v = data[(data.country == \"not reported\")]\n",
    "p = data[(data.date_added == pd.Timestamp.max.date())]\n",
    "print(\"{} NaN were replaced in variable rating\".format(len(y[\"rating\"])))\n",
    "print(\"{} NaN were replaced in variable director\".format(len(z[\"director\"])))\n",
    "print(\"{} NaN were replaced in variable cast\".format(len(w[\"cast\"])))\n",
    "print(\"{} NaN were replaced in variable country\".format(len(v[\"country\"])))\n",
    "print(\"{} NaN were replaced in variable date_added\".format(len(p[\"date_added\"])))"
   ]
  },
  {
   "cell_type": "code",
   "execution_count": 112,
   "id": "8279d1fd",
   "metadata": {},
   "outputs": [
    {
     "data": {
      "text/plain": [
       "show_id         0\n",
       "type            0\n",
       "title           0\n",
       "director        0\n",
       "cast            0\n",
       "country         0\n",
       "date_added      0\n",
       "release_year    0\n",
       "rating          0\n",
       "duration        0\n",
       "genres          0\n",
       "description     0\n",
       "dtype: int64"
      ]
     },
     "execution_count": 112,
     "metadata": {},
     "output_type": "execute_result"
    }
   ],
   "source": [
    "# The dataframe is checked to ensure that it no longer has missing values\n",
    "\n",
    "data.isnull().sum()"
   ]
  },
  {
   "cell_type": "markdown",
   "id": "db3d3655",
   "metadata": {},
   "source": [
    "since the date_added attribute contains different date formats: dd-month-yy, month d, yyyy, month dd, yyyy and we proceed to unify in one single format yyyy-mm-dd."
   ]
  },
  {
   "cell_type": "code",
   "execution_count": 113,
   "id": "6ec6733d",
   "metadata": {},
   "outputs": [
    {
     "data": {
      "text/plain": [
       "0      2020-08-14\n",
       "1      2017-12-15\n",
       "2      2019-01-05\n",
       "3      2016-03-01\n",
       "4      2018-12-03\n",
       "          ...    \n",
       "7782   2019-07-12\n",
       "7783   2020-09-01\n",
       "7784   2016-08-26\n",
       "7785   2019-03-08\n",
       "7786   2016-12-06\n",
       "Name: date_added, Length: 7787, dtype: datetime64[ns]"
      ]
     },
     "execution_count": 113,
     "metadata": {},
     "output_type": "execute_result"
    }
   ],
   "source": [
    "data[\"date_added\"] = pd.to_datetime(data[\"date_added\"], errors='coerce')\n",
    "data[\"date_added\"]"
   ]
  },
  {
   "cell_type": "markdown",
   "id": "b4f20720",
   "metadata": {},
   "source": [
    "In the following cells are identified: \n",
    "1. The different types of content and how many movies and shows which is expected to be only movies and tv-shows.\n",
    "2. The different types of rating\n",
    "3. How many movies and shows belong to each rating\n",
    "4. The different years of release and how many were made in each one"
   ]
  },
  {
   "cell_type": "code",
   "execution_count": 11,
   "id": "47e4f421",
   "metadata": {},
   "outputs": [
    {
     "name": "stdout",
     "output_type": "stream",
     "text": [
      "There are 2 unique values in the  column type:\n",
      "['TV Show' 'Movie']\n",
      "5377 are movies\n",
      "2410 are TV-shows\n",
      "\n"
     ]
    }
   ],
   "source": [
    "# Unique values are checked in the column type\n",
    "\n",
    "u = data.type.unique()\n",
    "print(\"There are {} unique values in the  column type:\\n{}\".format(len(u), u))\n",
    "\n",
    "movies = data[data.type == \"Movie\"]\n",
    "tv_shows = data[data.type == \"TV Show\"]\n",
    "print(\"{} are movies\".format(len(movies)))\n",
    "print(\"{} are TV-shows\".format(len(tv_shows)))\n",
    "print()"
   ]
  },
  {
   "cell_type": "code",
   "execution_count": 21,
   "id": "d5576a74",
   "metadata": {},
   "outputs": [
    {
     "name": "stdout",
     "output_type": "stream",
     "text": [
      "There are 15 unique values in the column rating\n"
     ]
    }
   ],
   "source": [
    "# Unique values are checked in the column rating\n",
    "\n",
    "rating = pd.unique(data[\"rating\"])\n",
    "print(\"There are {} unique values in the column rating\".format(len(rating)))"
   ]
  },
  {
   "cell_type": "code",
   "execution_count": 123,
   "id": "f2a89110",
   "metadata": {},
   "outputs": [
    {
     "name": "stdout",
     "output_type": "stream",
     "text": [
      "G: 39\n",
      "NC-17: 3\n",
      "NR: 84\n",
      "PG: 247\n",
      "PG-13: 386\n",
      "R: 665\n",
      "TV-14: 1931\n",
      "TV-G: 194\n",
      "TV-MA: 2863\n",
      "TV-PG: 806\n",
      "TV-Y: 280\n",
      "TV-Y7: 271\n",
      "TV-Y7-FV: 6\n",
      "UR: 5\n",
      "not reported: 7\n"
     ]
    }
   ],
   "source": [
    "# Identify how many TV-shows and movies there are for each classification\n",
    "\n",
    "grouped = data.groupby(\"rating\")\n",
    "rat_dict = {}\n",
    "for name, group in grouped:\n",
    "    print(name + \":\", len(group))\n",
    "    rat_dict[name] = len(group)"
   ]
  },
  {
   "cell_type": "code",
   "execution_count": 131,
   "id": "464964f1",
   "metadata": {},
   "outputs": [
    {
     "name": "stdout",
     "output_type": "stream",
     "text": [
      "There are 73 unique values in the column release_year\n",
      "in 1925: 1\n",
      "in 1942: 2\n",
      "in 1943: 3\n",
      "in 1944: 3\n",
      "in 1945: 3\n",
      "in 1946: 2\n",
      "in 1947: 1\n",
      "in 1954: 2\n",
      "in 1955: 3\n",
      "in 1956: 2\n",
      "in 1958: 3\n",
      "in 1959: 1\n",
      "in 1960: 4\n",
      "in 1962: 3\n",
      "in 1963: 2\n",
      "in 1964: 1\n",
      "in 1965: 2\n",
      "in 1966: 1\n",
      "in 1967: 5\n",
      "in 1968: 5\n",
      "in 1969: 2\n",
      "in 1970: 2\n",
      "in 1971: 5\n",
      "in 1972: 4\n",
      "in 1973: 10\n",
      "in 1974: 7\n",
      "in 1975: 6\n",
      "in 1976: 9\n",
      "in 1977: 7\n",
      "in 1978: 6\n",
      "in 1979: 11\n",
      "in 1980: 9\n",
      "in 1981: 9\n",
      "in 1982: 15\n",
      "in 1983: 9\n",
      "in 1984: 9\n",
      "in 1985: 9\n",
      "in 1986: 10\n",
      "in 1987: 7\n",
      "in 1988: 16\n",
      "in 1989: 13\n",
      "in 1990: 20\n",
      "in 1991: 17\n",
      "in 1992: 18\n",
      "in 1993: 22\n",
      "in 1994: 16\n",
      "in 1995: 19\n",
      "in 1996: 19\n",
      "in 1997: 30\n",
      "in 1998: 31\n",
      "in 1999: 33\n",
      "in 2000: 34\n",
      "in 2001: 36\n",
      "in 2002: 45\n",
      "in 2003: 49\n",
      "in 2004: 59\n",
      "in 2005: 73\n",
      "in 2006: 85\n",
      "in 2007: 85\n",
      "in 2008: 125\n",
      "in 2009: 137\n",
      "in 2010: 173\n",
      "in 2011: 166\n",
      "in 2012: 219\n",
      "in 2013: 267\n",
      "in 2014: 334\n",
      "in 2015: 541\n",
      "in 2016: 882\n",
      "in 2017: 1012\n",
      "in 2018: 1121\n",
      "in 2019: 996\n",
      "in 2020: 868\n",
      "in 2021: 31\n"
     ]
    }
   ],
   "source": [
    "# The different release years contained in the dataframe are checked\n",
    "\n",
    "year = data.release_year.unique()\n",
    "print(\"There are {} unique values in the column release_year\".format(len(year)))\n",
    "\n",
    "year_grouped = grouped = data.groupby(\"release_year\")\n",
    "\n",
    "for name, group in year_grouped:\n",
    "    print(\"in {}: {}\".format(name, len(group)))"
   ]
  },
  {
   "cell_type": "markdown",
   "id": "442ac840",
   "metadata": {},
   "source": [
    "In the list above you can see that between 2008 and 2020 more movies and shows were released. This can be confirmed on a density plot in a subsequent cell."
   ]
  },
  {
   "cell_type": "markdown",
   "id": "1cd8ba4a",
   "metadata": {},
   "source": [
    "### Data Visualization\n",
    "A bar graph represents the number of movies and shows for each rating. "
   ]
  },
  {
   "cell_type": "code",
   "execution_count": 125,
   "id": "1d78ff28",
   "metadata": {},
   "outputs": [
    {
     "data": {
      "image/png": "[encoded data removed]",
      "text/plain": [
       "<Figure size 640x480 with 1 Axes>"
      ]
     },
     "metadata": {},
     "output_type": "display_data"
    }
   ],
   "source": [
    "# The function create_graphs is created\n",
    "\n",
    "import matplotlib.pyplot as plt\n",
    "\n",
    "def create_graphs(gp):\n",
    "\n",
    "    \"\"\"\n",
    "    generates a bar chart showing the number of videos and tv shows for each rating.\n",
    "    :param gp: receives a tuple containing the number of movies and tv shows for each genre\n",
    "    :return: a graph\n",
    "    \"\"\"\n",
    "    ratings = [name for name, group in gp]\n",
    "    counts = [len(group) for name, group in gp]\n",
    "\n",
    "    fig, ax = plt.subplots()\n",
    "    # axis Y\n",
    "    ax.set_ylabel('Videos')\n",
    "    # axis X\n",
    "    ax.set_title('Number of videos per rating')\n",
    "\n",
    "    # creation of the graphic\n",
    "    plt.barh(ratings, counts)\n",
    "    plt.savefig('bar_graphic.png')\n",
    "    plt.show()\n",
    "\n",
    "def create_graphs2(di):\n",
    "\n",
    "    \"\"\"\n",
    "    Return a pastel graph showing the percentage of videos and tv shows for each rating.\n",
    "    :param di: sorted dictionary containing the number of movies and shows for each rating\n",
    "    :return: pastel graph\n",
    "    \"\"\"\n",
    "\n",
    "    # list of ratings\n",
    "    ratings_list = []\n",
    "\n",
    "    # percentage for each rating\n",
    "    sizes = []\n",
    "    s = 0\n",
    "    n = 0\n",
    "    v2 = 0\n",
    "    for v1 in di.values():\n",
    "        s = s + v1\n",
    "    for k, v in di.items():\n",
    "\n",
    "        # the 6 ratings with the highest number of appearances are displayed\n",
    "        if n <= 6:\n",
    "            ratings_list.append(k)\n",
    "            sizes.append((v*100)/s)\n",
    "            n = n + 1\n",
    "            v2 += v\n",
    "        else:\n",
    "            ratings_list.append(\"anothers\")\n",
    "            sizes.append((s-v2)*100/s)\n",
    "            break\n",
    "\n",
    "    ratings_list2 = tuple(ratings_list)\n",
    "\n",
    "    explode = (0.1, 0, 0, 0, 0, 0, 0, 0)\n",
    "\n",
    "    fig1, ax1 = plt.subplots()\n",
    "    ax1.pie(sizes, explode=explode, labels=ratings_list2, autopct='%1.1f%%',\n",
    "            shadow=True, startangle=90)\n",
    "    ax1.axis('equal')\n",
    "    plt.title(\"Main Classifications\")\n",
    "    plt.legend(loc =\"lower left\")\n",
    "    plt.savefig('pastel_graph.png')\n",
    "    plt.show()\n",
    "\n",
    "\n",
    "# The amount of movies and tv-shows by rating is shown in a bar graph\n",
    "create_graphs(grouped)"
   ]
  },
  {
   "cell_type": "markdown",
   "id": "ab3e524d",
   "metadata": {},
   "source": [
    "A pie graph represents the percentage of movies and shows for each rating"
   ]
  },
  {
   "cell_type": "code",
   "execution_count": 126,
   "id": "7301098f",
   "metadata": {},
   "outputs": [
    {
     "data": {
      "image/png": "[encoded data removed]",
      "text/plain": [
       "<Figure size 640x480 with 1 Axes>"
      ]
     },
     "metadata": {},
     "output_type": "display_data"
    }
   ],
   "source": [
    "# create_graphs2 is created\n",
    "    \n",
    "def create_graphs2(di):\n",
    "\n",
    "    \"\"\"\n",
    "    Return a pastel graph showing the percentage of videos and tv shows for each rating.\n",
    "    :param di: sorted dictionary containing the number of movies and shows for each rating\n",
    "    :return: pastel graph\n",
    "    \"\"\"\n",
    "\n",
    "    # list of ratings\n",
    "    ratings_list = []\n",
    "\n",
    "    # percentage for each rating\n",
    "    sizes = []\n",
    "    s = 0\n",
    "    n = 0\n",
    "    v2 = 0\n",
    "    for v1 in di.values():\n",
    "        s = s + v1\n",
    "    for k, v in di.items():\n",
    "\n",
    "        # the 6 ratings with the highest number of appearances are displayed\n",
    "        if n <= 6:\n",
    "            ratings_list.append(k)\n",
    "            sizes.append((v*100)/s)\n",
    "            n = n + 1\n",
    "            v2 += v\n",
    "        else:\n",
    "            ratings_list.append(\"anothers\")\n",
    "            sizes.append((s-v2)*100/s)\n",
    "            break\n",
    "\n",
    "    ratings_list2 = tuple(ratings_list)\n",
    "\n",
    "    explode = (0.1, 0, 0, 0, 0, 0, 0, 0)\n",
    "\n",
    "    fig1, ax1 = plt.subplots()\n",
    "    ax1.pie(sizes, explode=explode, labels=ratings_list2, autopct='%1.1f%%',\n",
    "            shadow=True, startangle=90)\n",
    "    ax1.axis('equal')\n",
    "    plt.title(\"Main Classifications\")\n",
    "    plt.legend(loc =\"lower left\")\n",
    "    plt.savefig('pastel_graph.png')\n",
    "    plt.show()\n",
    "    \n",
    "# rat_dict dictionary is sorted\n",
    "rat_dict_sorted = dict(sorted(rat_dict.items(), key=lambda item: item[1], reverse=True))\n",
    "\n",
    "# The percentage of movies and tv-shows by rating is shown in a pastel graph\n",
    "create_graphs2(rat_dict_sorted)"
   ]
  },
  {
   "cell_type": "markdown",
   "id": "75df30d7",
   "metadata": {},
   "source": [
    "With a density graph visualizing the data distribution between the years 1925 and 2021"
   ]
  },
  {
   "cell_type": "code",
   "execution_count": 52,
   "id": "98449cc4",
   "metadata": {},
   "outputs": [
    {
     "data": {
      "image/png": "[encoded data removed]",
      "text/plain": [
       "<Figure size 640x480 with 1 Axes>"
      ]
     },
     "metadata": {},
     "output_type": "display_data"
    }
   ],
   "source": [
    "import seaborn as sns\n",
    "\n",
    "# A density graph is created\n",
    "\n",
    "sns.kdeplot(x=data['release_year'], shade=True)\n",
    "plt.title(\"density plot of Release year\")\n",
    "plt.show()"
   ]
  },
  {
   "cell_type": "markdown",
   "id": "c7a6b418",
   "metadata": {},
   "source": [
    "We can confirm that between 2008 and 2022 were the years where the most movies and TV shows were released because it is a high density (high peak) region."
   ]
  },
  {
   "cell_type": "code",
   "execution_count": 34,
   "id": "f50ba280",
   "metadata": {},
   "outputs": [
    {
     "name": "stdout",
     "output_type": "stream",
     "text": [
      "Number of Movies and Tv-shows by rating are:\n",
      "there are 39 Movie that are rating G\n",
      "there are 3 Movie that are rating NC-17\n",
      "there are 79 Movie that are rating NR\n",
      "there are 5 TV Show that are rating NR\n",
      "there are 247 Movie that are rating PG\n",
      "there are 386 Movie that are rating PG-13\n",
      "there are 663 Movie that are rating R\n",
      "there are 2 TV Show that are rating R\n",
      "there are 1272 Movie that are rating TV-14\n",
      "there are 659 TV Show that are rating TV-14\n",
      "there are 111 Movie that are rating TV-G\n",
      "there are 83 TV Show that are rating TV-G\n",
      "there are 1845 Movie that are rating TV-MA\n",
      "there are 1018 TV Show that are rating TV-MA\n",
      "there are 505 Movie that are rating TV-PG\n",
      "there are 301 TV Show that are rating TV-PG\n",
      "there are 117 Movie that are rating TV-Y\n",
      "there are 163 TV Show that are rating TV-Y\n",
      "there are 95 Movie that are rating TV-Y7\n",
      "there are 176 TV Show that are rating TV-Y7\n",
      "there are 5 Movie that are rating TV-Y7-FV\n",
      "there are 1 TV Show that are rating TV-Y7-FV\n",
      "there are 5 Movie that are rating UR\n",
      "there are 5 Movie that are rating not reported\n",
      "there are 2 TV Show that are rating not reported\n"
     ]
    }
   ],
   "source": [
    "# Number of movies and tv shows by ratings\n",
    "\n",
    "# Dataframe grouping by type and rating\n",
    "\n",
    "grouped2 = data.groupby([\"rating\", \"type\"])\n",
    "print(\"Number of Movies and Tv-shows by rating are:\")\n",
    "for name, group in grouped2:\n",
    "    print(\"there are {} {} that are rating {}\".format(len(group), name[1], name[0]))"
   ]
  },
  {
   "cell_type": "code",
   "execution_count": 38,
   "id": "503820c6",
   "metadata": {},
   "outputs": [
    {
     "name": "stdout",
     "output_type": "stream",
     "text": [
      "There are 42 differents genres, they are:\n",
      "Dramas 79\n",
      "International TV Shows 75\n",
      "Comedies 74\n",
      "International Movies 69\n",
      "TV Dramas 62\n",
      "Action & Adventure 61\n",
      "TV Comedies 51\n",
      "TV Action & Adventure 41\n",
      "Independent Movies 40\n",
      "Crime TV Shows 40\n",
      "Children & Family Movies 38\n",
      "Sci-Fi & Fantasy 38\n",
      "Romantic Movies 35\n",
      "Music & Musicals 34\n",
      "Classic Movies 33\n",
      "Horror Movies 32\n",
      "Thrillers 31\n",
      "Kids' TV 31\n",
      "TV Sci-Fi & Fantasy 28\n",
      "British TV Shows 28\n",
      "Docuseries 28\n",
      "Sports Movies 27\n",
      "Romantic TV Shows 27\n",
      "Reality TV 26\n",
      "Cult Movies 25\n",
      "TV Horror 25\n",
      "Documentaries 24\n",
      "Spanish-Language TV Shows 21\n",
      "TV Mysteries 21\n",
      "Teen TV Shows 20\n",
      "LGBTQ Movies 19\n",
      "TV Thrillers 18\n",
      "Anime Series 16\n",
      "Faith & Spirituality 16\n",
      "Classic & Cult TV 15\n",
      "Anime Features 14\n",
      "Science & Nature TV 12\n",
      "Korean TV Shows 10\n",
      "Stand-Up Comedy & Talk Shows 9\n",
      "Stand-Up Comedy 3\n",
      "TV Shows 1\n",
      "Movies 1\n",
      "\n",
      "There are 118 countries, where the movie/show was produced:\n",
      "\n",
      "Brazil 16\n",
      "India 44\n",
      "Indonesia 10\n",
      "United States 320\n",
      "United Kingdom 180\n",
      "France 151\n",
      "Germany 107\n",
      "Canada 110\n",
      "Japan 32\n",
      "Thailand 8\n",
      "not reported 1\n",
      "Denmark 30\n",
      "Sweden 26\n",
      "Israel 13\n",
      "Ireland 25\n",
      "Spain 56\n",
      "Iceland 6\n",
      "Colombia 14\n",
      "United Arab Emirates 19\n",
      "New Zealand 15\n",
      "Netherlands 29\n",
      "Egypt 7\n",
      "Australia 36\n",
      "Russia 10\n",
      "Norway 19\n",
      "Finland 11\n",
      "Philippines 8\n",
      "Poland 14\n",
      "Lebanon 12\n",
      "Singapore 15\n",
      "Bulgaria 5\n",
      "South Korea 24\n",
      "Italy 39\n",
      "South Africa 25\n",
      "Belgium 49\n",
      "Hong Kong 17\n",
      "Kenya 4\n",
      "Taiwan 8\n",
      "Turkey 8\n",
      "China 53\n",
      "Malta 3\n",
      "Kuwait 2\n",
      "Argentina 24\n",
      "Nigeria 6\n",
      "Pakistan 6\n",
      "Mexico 27\n",
      "Czech Republic 15\n",
      "Bahamas 1\n",
      "Romania 7\n",
      "Sri Lanka 1\n",
      "Cayman Islands 2\n",
      "Bangladesh 2\n",
      "Malaysia 5\n",
      "Switzerland 16\n",
      "Luxembourg 11\n",
      "Vietnam 1\n",
      "Zimbabwe 3\n",
      "Hungary 6\n",
      "Latvia 1\n",
      "Qatar 7\n",
      "Algeria 2\n",
      "Liechtenstein 1\n",
      "Serbia 6\n",
      "Chile 12\n",
      "Venezuela 3\n",
      "Uruguay 12\n",
      "Peru 7\n",
      "Morocco 6\n",
      "Cambodia 5\n",
      "Albania 1\n",
      "Iran 4\n",
      "Cuba 1\n",
      "Nicaragua 1\n",
      "Austria 8\n",
      "Jordan 8\n",
      "Greece 6\n",
      "Croatia 4\n",
      "Guatemala 2\n",
      "West Germany 5\n",
      "Slovenia 3\n",
      "Dominican Republic 1\n",
      "Senegal 3\n",
      "Portugal 4\n",
      "Mauritius 1\n",
      "Nepal 2\n",
      "Samoa 1\n",
      "Azerbaijan 1\n",
      "Soviet Union 2\n",
      "Saudi Arabia 4\n",
      "Bermuda 1\n",
      "Ecuador 1\n",
      "Georgia 2\n",
      "Botswana 1\n",
      "Puerto Rico 1\n",
      "Iraq 2\n",
      "Vatican City 1\n",
      "Ghana 2\n",
      "Angola 1\n",
      "Ukraine 2\n",
      "Jamaica 1\n",
      "Belarus 1\n",
      "Cyprus 1\n",
      "Kazakhstan 1\n",
      "Malawi 1\n",
      "Slovakia 1\n",
      "Lithuania 1\n",
      "Afghanistan 1\n",
      "Paraguay 1\n",
      "Somalia 1\n",
      "Sudan 1\n",
      "Panama 1\n",
      "Namibia 2\n",
      "Armenia 1\n",
      "Mongolia 1\n",
      "Uganda 1\n",
      "East Germany 1\n",
      "Montenegro 1\n",
      "Syria 1\n"
     ]
    }
   ],
   "source": [
    "# The function identifies_genres_countries is created\n",
    "\n",
    "def identifies_genres_countries(gr):\n",
    "\n",
    "    \"\"\"\n",
    "    returns a list with de the differents genres or countries\n",
    "    :param gr: array of one dimension\n",
    "    :return data_list: list with the differents genres or countries\n",
    "    \"\"\"\n",
    "\n",
    "    # An empty list is created\n",
    "    data_dict = {}\n",
    "\n",
    "    # Each element of the array gr is iterated, converting it into a list of lists.\n",
    "    for i in list(gr):\n",
    "\n",
    "        # Separate each item in the list by commas and spaces\n",
    "        y = i.split(sep=\", \")\n",
    "\n",
    "        for x in y:\n",
    "\n",
    "            x = x.replace(\",\", \"\")\n",
    "\n",
    "            if x in data_dict:\n",
    "                data_dict[x] += 1\n",
    "\n",
    "            else:\n",
    "                data_dict[x] = 1\n",
    "\n",
    "    return data_dict\n",
    "\n",
    "# The different genres that exist are searched\n",
    "\n",
    "genres = pd.unique(data[\"genres\"])\n",
    "print(\"There are {} differents genres, they are:\".format(len(identifies_genres_countries(genres))))\n",
    "\n",
    "dic_g = identifies_genres_countries(genres)\n",
    "dic_g_sorted = dict(sorted(dic_g.items(), key=lambda item:item[1], reverse=True))\n",
    "\n",
    "for k, v in dic_g_sorted.items():\n",
    "    print(k, v)\n",
    "\n",
    "# The different countries that exist are searched\n",
    "\n",
    "countries = pd.unique(data[\"country\"])\n",
    "print()\n",
    "print(\"There are {} countries, where the movie/show was produced:\".format(len(identifies_genres_countries(countries))))\n",
    "print()\n",
    "\n",
    "dic_c = identifies_genres_countries(countries)\n",
    "for k, v in dic_c.items():\n",
    "    print(k, v)\n"
   ]
  },
  {
   "cell_type": "code",
   "execution_count": 43,
   "id": "0ac564ca",
   "metadata": {},
   "outputs": [
    {
     "data": {
      "text/plain": [
       "0                                   for ages 18 and older\n",
       "1                                   for ages 18 and older\n",
       "2                               with parental supervision\n",
       "3       with parental supervision for children under 1...\n",
       "4                              suitable for all audiences\n",
       "                              ...                        \n",
       "7782         Parental supervision is strongly recommended\n",
       "7783                                for ages 18 and older\n",
       "7784                    Not allowed for children under 17\n",
       "7785    Parental supervision for children under 13 yea...\n",
       "7786                                for ages 18 and older\n",
       "Name: description_rating, Length: 7787, dtype: object"
      ]
     },
     "execution_count": 43,
     "metadata": {},
     "output_type": "execute_result"
    }
   ],
   "source": [
    "# The function age_rating is created\n",
    "\n",
    "def age_rating(xx):\n",
    "\n",
    "    \"\"\"\n",
    "    Return a string with the description about the ratings\n",
    "    :param xx: rating\n",
    "    :return val: description of the rating\n",
    "    \"\"\"\n",
    "    if xx == \"TV-MA\":\n",
    "        val = \"for ages 18 and older\"\n",
    "        return val\n",
    "    elif xx == \"TV-PG\" or xx == \"PG\":\n",
    "        val = \"with parental supervision\"\n",
    "        return val\n",
    "    elif xx == \"R\":\n",
    "        val = \"with parental supervision for children under 17 years of age\"\n",
    "        return val\n",
    "    elif xx == \"TV-G\":\n",
    "        val = \"suitable for all audiences\"\n",
    "        return val\n",
    "    elif xx ==  \"PG-13\":\n",
    "        val = \"Parental supervision for children under 13 years of age\"\n",
    "        return val\n",
    "    elif xx == \"TV-14\":\n",
    "        val = \"Parental supervision is strongly recommended\"\n",
    "        return val\n",
    "    elif xx == \"TV-Y\":\n",
    "        val = \"For children of all ages\"\n",
    "        return val\n",
    "    elif xx == \"TV-Y7\":\n",
    "        val = \"for children 7 years and older\"\n",
    "        return val\n",
    "    elif xx == \"NR\" or xx == \"UR\":\n",
    "        val = \"Not Rated\"\n",
    "        return val\n",
    "    elif xx == \"G\":\n",
    "        val = \"All children and the general public\"\n",
    "        return val\n",
    "    elif xx == \"TV-Y7-FV\":\n",
    "        val = \"children 7 years of age and older. Contains fantasy violence\"\n",
    "        return val\n",
    "    elif xx == \"not reported\":\n",
    "        val = \"not informed\"\n",
    "        return val\n",
    "    elif xx == \"NC-17\":\n",
    "        val = \"Not allowed for children under 17\"\n",
    "        return val\n",
    "\n",
    "\n",
    "# A column is created indicating the description for each rating\n",
    "\n",
    "data[\"description_rating\"] = data[\"rating\"].apply(age_rating)\n",
    "data[\"description_rating\"]"
   ]
  },
  {
   "cell_type": "markdown",
   "id": "0b1cf67a",
   "metadata": {},
   "source": [
    "In the previous cell a new attribute is created containing a brief description of the rating attribute"
   ]
  }
 ],
 "metadata": {
  "kernelspec": {
   "display_name": "Python 3 (ipykernel)",
   "language": "python",
   "name": "python3"
  },
  "language_info": {
   "codemirror_mode": {
    "name": "ipython",
    "version": 3
   },
   "file_extension": ".py",
   "mimetype": "text/x-python",
   "name": "python",
   "nbconvert_exporter": "python",
   "pygments_lexer": "ipython3",
   "version": "3.9.13"
  }
 },
 "nbformat": 4,
 "nbformat_minor": 5
}
